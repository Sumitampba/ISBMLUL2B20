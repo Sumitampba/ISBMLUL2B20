{
 "cells": [
  {
   "cell_type": "code",
   "execution_count": 11,
   "id": "9f579215",
   "metadata": {},
   "outputs": [],
   "source": [
    "def triangle_check(a,b,c):\n",
    "    if a+b>=c and b+c>=a and c+a>b:\n",
    "        return ('Yes : WE can form the Triangle')\n",
    "    else:\n",
    "        return('No: We can not form the triangle')"
   ]
  },
  {
   "cell_type": "code",
   "execution_count": 13,
   "id": "9215b4b3",
   "metadata": {},
   "outputs": [
    {
     "data": {
      "text/plain": [
       "'Yes : WE can Form the Triangle'"
      ]
     },
     "execution_count": 13,
     "metadata": {},
     "output_type": "execute_result"
    }
   ],
   "source": [
    "triangle_check(4,2,2)"
   ]
  },
  {
   "cell_type": "code",
   "execution_count": null,
   "id": "af7f37c2",
   "metadata": {},
   "outputs": [],
   "source": []
  }
 ],
 "metadata": {
  "kernelspec": {
   "display_name": "Python 3 (ipykernel)",
   "language": "python",
   "name": "python3"
  },
  "language_info": {
   "codemirror_mode": {
    "name": "ipython",
    "version": 3
   },
   "file_extension": ".py",
   "mimetype": "text/x-python",
   "name": "python",
   "nbconvert_exporter": "python",
   "pygments_lexer": "ipython3",
   "version": "3.11.4"
  }
 },
 "nbformat": 4,
 "nbformat_minor": 5
}
