{
  "cells": [
    {
      "cell_type": "markdown",
      "metadata": {
        "id": "view-in-github",
        "colab_type": "text"
      },
      "source": [
        "<a href=\"https://colab.research.google.com/github/Sumitampba/ISBMLUL2B20/blob/main/G_16_Landing_to_Staging_V2.ipynb\" target=\"_parent\"><img src=\"https://colab.research.google.com/assets/colab-badge.svg\" alt=\"Open In Colab\"/></a>"
      ]
    },
    {
      "cell_type": "code",
      "source": [
        "# Import necessary librar\n",
        "from pyspark.sql import SparkSession\n",
        "from pyspark.sql.types import StructType, StructField, StringType, IntegerType, FloatType, DateType\n",
        "from pyspark.sql.functions import col\n",
        "\n",
        "# Initialize Spark session\n",
        "spark = SparkSession.builder \\\n",
        "    .appName(\"Data Ingestion\") \\\n",
        "    .getOrCreate()\n"
      ],
      "metadata": {
        "id": "nry1Wt4jmXQm"
      },
      "execution_count": 117,
      "outputs": []
    },
    {
      "cell_type": "code",
      "execution_count": 118,
      "metadata": {
        "id": "6pIMMSrTjr01"
      },
      "outputs": [],
      "source": [
        "# Define schema for orders.csv\n",
        "orders_schema = StructType([\n",
        "    StructField(\"index\", StringType(), True),\n",
        "    StructField(\"order_id\", StringType(), True),\n",
        "    StructField(\"order_date\", StringType(), True),\n",
        "    StructField(\"item_id\", StringType(), True),\n",
        "    StructField(\"qty_ordered\", IntegerType(), True),\n",
        "    StructField(\"price\", IntegerType(), True),\n",
        "    StructField(\"value\", FloatType(), True),\n",
        "    StructField(\"discount_amount\", FloatType(), True),\n",
        "    StructField(\"total\", FloatType(), True),\n",
        "    StructField(\"category\", StringType(), True),\n",
        "    StructField(\"payment_method\", StringType(), True),\n",
        "    StructField(\"cust_id\", StringType(), True),\n",
        "    StructField(\"final_status\", StringType(), True)\n",
        "])"
      ]
    },
    {
      "cell_type": "code",
      "execution_count": 119,
      "metadata": {
        "colab": {
          "base_uri": "https://localhost:8080/"
        },
        "id": "XmA5D3rPkLvS",
        "outputId": "8a1a8cb2-492b-4763-9f96-2fe575db07f8"
      },
      "outputs": [
        {
          "output_type": "stream",
          "name": "stdout",
          "text": [
            "+-----+---------+----------+-------+-----------+-----+------+---------------+------+-----------------+---------------+-------+------------+\n",
            "|index| order_id|order_date|item_id|qty_ordered|price| value|discount_amount| total|         category| payment_method|cust_id|final_status|\n",
            "+-----+---------+----------+-------+-----------+-----+------+---------------+------+-----------------+---------------+-------+------------+\n",
            "|  296|100438643|  21/01/21| 718698|          2| NULL|6979.2|            0.0|6979.2|Mobiles & Tablets|            cod|   6702|   cancelled|\n",
            "|  297|100439395|  24/01/21| 719994|          2| NULL|6979.2|            0.0|6979.2|Mobiles & Tablets|            cod|   6702|    received|\n",
            "|  298|100439912|  25/01/21| 721015|          2| NULL| 255.9|            0.0| 255.9|    Men's Fashion|            cod|   6702|   cancelled|\n",
            "|  407|100437996|  18/01/21| 717518|          2| NULL|1894.6|            0.0|1894.6|Mobiles & Tablets|     Easypay_MA|  55731|   cancelled|\n",
            "|  606|100430519|  01/01/21| 703609|          2| NULL|  49.9|            0.0|  49.9|       Appliances|easypay_voucher|  44445|   cancelled|\n",
            "|  607|100432179|  04/01/21| 706727|          2| NULL|2552.1|            0.0|2552.1|       Appliances|            cod|  44445|    received|\n",
            "|  608|100432181|  04/01/21| 706729|          2| NULL|  49.9|            0.0|  49.9|       Appliances|            cod|  44445|    received|\n",
            "|  609|100432188|  04/01/21| 706755|          2| NULL| 139.9|            0.0| 139.9|       Appliances|            cod|  44445|    received|\n",
            "|  610|100433652|  08/01/21| 709629|          2| NULL|  49.9|            0.0|  49.9|    Men's Fashion|            cod|  44445|    received|\n",
            "|  611|100433652|  08/01/21| 709631|          2| NULL|  49.9|            0.0|  49.9|    Men's Fashion|            cod|  44445|    received|\n",
            "+-----+---------+----------+-------+-----------+-----+------+---------------+------+-----------------+---------------+-------+------------+\n",
            "only showing top 10 rows\n",
            "\n"
          ]
        }
      ],
      "source": [
        "# Read orders.csv\n",
        "orders_df = spark.read.csv(\"/content/sample_data/Sales_landing_zone/orders/orders_01_21.csv\", schema=orders_schema, header=True)\n",
        "orders_df.show(10)"
      ]
    },
    {
      "cell_type": "code",
      "execution_count": 120,
      "metadata": {
        "id": "gskocyVJkOPo"
      },
      "outputs": [],
      "source": [
        "from pyspark.sql.types import StructType, StructField, IntegerType, StringType, FloatType, DateType\n",
        "\n",
        "# Define the schema for the JSON file\n",
        "customers_schema = StructType([\n",
        "    StructField(\"index\", IntegerType(), True),\n",
        "    StructField(\"order_id\", StringType(), True),\n",
        "    StructField(\"order_date\", StringType(), True),\n",
        "    StructField(\"item_id\", StringType(), True),\n",
        "    StructField(\"qty_ordered\", IntegerType(), True),\n",
        "    StructField(\"price\", FloatType(), True),\n",
        "    StructField(\"value\", FloatType(), True),\n",
        "    StructField(\"discount_amount\", FloatType(), True),\n",
        "    StructField(\"total\", FloatType(), True),\n",
        "    StructField(\"category\", StringType(), True),\n",
        "    StructField(\"payment_method\", StringType(), True),\n",
        "    StructField(\"cust_id\", StringType(), True),\n",
        "    StructField(\"final_status\", StringType(), True)\n",
        "])\n"
      ]
    },
    {
      "cell_type": "code",
      "execution_count": 121,
      "metadata": {
        "colab": {
          "base_uri": "https://localhost:8080/"
        },
        "id": "d8IWKaYyuh_v",
        "outputId": "e39f88e9-d5ca-4534-9582-c85cdbce3158"
      },
      "outputs": [
        {
          "output_type": "stream",
          "name": "stdout",
          "text": [
            "root\n",
            " |-- City: string (nullable = true)\n",
            " |-- County: string (nullable = true)\n",
            " |-- Customer Since: string (nullable = true)\n",
            " |-- E Mail: string (nullable = true)\n",
            " |-- Gender: string (nullable = true)\n",
            " |-- Place Name: string (nullable = true)\n",
            " |-- Region: string (nullable = true)\n",
            " |-- State: string (nullable = true)\n",
            " |-- Zip: long (nullable = true)\n",
            " |-- age: double (nullable = true)\n",
            " |-- cust_id: double (nullable = true)\n",
            " |-- full_name: string (nullable = true)\n",
            "\n",
            "+------------+-----------+--------------+----------------------------+------+------------+---------+-----+-----+----+-------+------------------+\n",
            "|City        |County     |Customer Since|E Mail                      |Gender|Place Name  |Region   |State|Zip  |age |cust_id|full_name         |\n",
            "+------------+-----------+--------------+----------------------------+------+------------+---------+-----+-----+----+-------+------------------+\n",
            "|Vinson      |Harmon     |8/22/2006     |jani.titus@gmail.com        |F     |Vinson      |South    |OK   |73571|43.0|60124.0|Titus, Jani       |\n",
            "|Graham      |Bradford   |2/4/1981      |lee.eaker@gmail.com         |M     |Graham      |South    |FL   |32042|28.0|42485.0|Eaker, Lee        |\n",
            "|Grand Forks |Grand Forks|6/27/2010     |jason.simoneau@gmail.com    |M     |Grand Forks |Midwest  |ND   |58201|65.0|53620.0|Simoneau, Jason   |\n",
            "|Laupahoehoe |Hawaii     |4/3/1992      |grover.bayless@yahoo.com    |M     |Laupahoehoe |West     |HI   |96764|33.0|56836.0|Bayless, Grover   |\n",
            "|Glendo      |Platte     |6/21/2015     |albertina.bensen@gmail.com  |F     |Glendo      |West     |WY   |82213|73.0|60125.0|Bensen, Albertina |\n",
            "|Farmington  |Oconee     |10/19/2016    |drema.galle@gmail.com       |F     |Farmington  |South    |GA   |30638|64.0|51286.0|Galle, Drema      |\n",
            "|Nashville   |Davidson   |7/10/2011     |sheryll.newsome@gmail.com   |F     |Nashville   |South    |TN   |37245|75.0|60126.0|Newsome, Sheryll  |\n",
            "|Warwick     |Kent       |5/11/1995     |bernard.dewald@hotmail.co.uk|M     |Warwick     |Northeast|RI   |2889 |52.0|60127.0|Dewald, Bernard   |\n",
            "|Sarasota    |Sarasota   |8/25/1998     |hilario.brammer@hotmail.com |M     |Sarasota    |South    |FL   |34277|31.0|60128.0|Brammer, Hilario  |\n",
            "|Brownstown  |Fayette    |3/31/2017     |elizbeth.raminez@gmail.com  |F     |Brownstown  |Midwest  |IL   |62418|71.0|56449.0|Raminez, Elizbeth |\n",
            "|Mill Springs|Wayne      |3/5/2010      |robbie.dinapoli@yahoo.co.uk |M     |Mill Springs|South    |KY   |42632|43.0|60129.0|Dinapoli, Robbie  |\n",
            "|Brighton    |Jersey     |8/24/2016     |rachell.murguia@hotmail.com |F     |Brighton    |Midwest  |IL   |62012|66.0|60130.0|Murguia, Rachell  |\n",
            "|Phoenix     |Maricopa   |7/20/2003     |lauran.mayo@gmail.com       |F     |Phoenix     |West     |AZ   |85015|38.0|31655.0|Mayo, Lauran      |\n",
            "|Fort Smith  |Sebastian  |3/11/1986     |abe.waymire@yahoo.ca        |M     |Fort Smith  |South    |AR   |72913|71.0|60131.0|Waymire, Abe      |\n",
            "|Drew        |Sunflower  |12/22/2005    |lenny.blount@apple.com      |M     |Drew        |South    |MS   |38737|64.0|15106.0|Blount, Lenny     |\n",
            "|Snyder      |Dodge      |1/24/2013     |romeo.hopps@outlook.com     |M     |Snyder      |Midwest  |NE   |68664|38.0|37011.0|Hopps, Romeo      |\n",
            "|Riverton    |Burlington |5/28/2010     |florentino.stough@gmail.com |M     |Riverton    |Northeast|NJ   |8076 |60.0|52163.0|Stough, Florentino|\n",
            "|Huntington  |Cabell     |1/17/2003     |harrison.criss@yahoo.com    |M     |Huntington  |South    |WV   |25714|75.0|60132.0|Criss, Harrison   |\n",
            "|Benton      |Benton     |7/12/2004     |micah.coutee@gmail.com      |M     |Benton      |South    |AR   |72019|18.0|44511.0|Coutee, Micah     |\n",
            "|El Monte    |Los Angeles|11/10/2015    |wallace.henrich@yahoo.com   |M     |El Monte    |West     |CA   |91734|46.0|60133.0|Henrich, Wallace  |\n",
            "+------------+-----------+--------------+----------------------------+------+------------+---------+-----+-----+----+-------+------------------+\n",
            "only showing top 20 rows\n",
            "\n"
          ]
        }
      ],
      "source": [
        "from pyspark.sql import SparkSession\n",
        "\n",
        "# Create or get Spark session\n",
        "spark = SparkSession.builder.appName(\"ReadJSON\").getOrCreate()\n",
        "\n",
        "def readJsonFile(path):\n",
        "    # Read the JSON file into a DataFrame without schema\n",
        "    df = spark.read.json(path)\n",
        "\n",
        "    # Show the inferred schema\n",
        "    df.printSchema()\n",
        "\n",
        "    # Display the DataFrame\n",
        "    df.show(truncate=False)\n",
        "\n",
        "# Example usage\n",
        "readJsonFile(\"/content/sample_data/Sales_landing_zone/customers/customers.json\")\n"
      ]
    },
    {
      "cell_type": "code",
      "execution_count": 122,
      "metadata": {
        "colab": {
          "base_uri": "https://localhost:8080/"
        },
        "id": "MLEj0xU2lAMN",
        "outputId": "6f9c8bd7-8ab0-45e8-9b96-fe3cd9f5f9ce"
      },
      "outputs": [
        {
          "output_type": "stream",
          "name": "stdout",
          "text": [
            "+-----+---------+----------+-------+-----------+-----+------+---------------+------+-----------------+---------------+-------+------------+\n",
            "|index| order_id|order_date|item_id|qty_ordered|price| value|discount_amount| total|         category| payment_method|cust_id|final_status|\n",
            "+-----+---------+----------+-------+-----------+-----+------+---------------+------+-----------------+---------------+-------+------------+\n",
            "|  296|100438643|  21/01/21| 718698|          2| NULL|6979.2|            0.0|6979.2|Mobiles & Tablets|            cod|   6702|   cancelled|\n",
            "|  297|100439395|  24/01/21| 719994|          2| NULL|6979.2|            0.0|6979.2|Mobiles & Tablets|            cod|   6702|    received|\n",
            "|  298|100439912|  25/01/21| 721015|          2| NULL| 255.9|            0.0| 255.9|    Men's Fashion|            cod|   6702|   cancelled|\n",
            "|  407|100437996|  18/01/21| 717518|          2| NULL|1894.6|            0.0|1894.6|Mobiles & Tablets|     Easypay_MA|  55731|   cancelled|\n",
            "|  606|100430519|  01/01/21| 703609|          2| NULL|  49.9|            0.0|  49.9|       Appliances|easypay_voucher|  44445|   cancelled|\n",
            "|  607|100432179|  04/01/21| 706727|          2| NULL|2552.1|            0.0|2552.1|       Appliances|            cod|  44445|    received|\n",
            "|  608|100432181|  04/01/21| 706729|          2| NULL|  49.9|            0.0|  49.9|       Appliances|            cod|  44445|    received|\n",
            "|  609|100432188|  04/01/21| 706755|          2| NULL| 139.9|            0.0| 139.9|       Appliances|            cod|  44445|    received|\n",
            "|  610|100433652|  08/01/21| 709629|          2| NULL|  49.9|            0.0|  49.9|    Men's Fashion|            cod|  44445|    received|\n",
            "|  611|100433652|  08/01/21| 709631|          2| NULL|  49.9|            0.0|  49.9|    Men's Fashion|            cod|  44445|    received|\n",
            "+-----+---------+----------+-------+-----------+-----+------+---------------+------+-----------------+---------------+-------+------------+\n",
            "only showing top 10 rows\n",
            "\n",
            "+-----+---------+----------+-------+-----------+-----+------+---------------+------+-----------------+---------------+-------+------------+----+-----+\n",
            "|index|order_id |order_date|item_id|qty_ordered|price|value |discount_amount|total |category         |payment_method |cust_id|final_status|year|month|\n",
            "+-----+---------+----------+-------+-----------+-----+------+---------------+------+-----------------+---------------+-------+------------+----+-----+\n",
            "|296  |100438643|2021-01-21|718698 |2          |NULL |6979.2|0.0            |6979.2|Mobiles & Tablets|cod            |6702   |cancelled   |2021|1    |\n",
            "|297  |100439395|2021-01-24|719994 |2          |NULL |6979.2|0.0            |6979.2|Mobiles & Tablets|cod            |6702   |received    |2021|1    |\n",
            "|298  |100439912|2021-01-25|721015 |2          |NULL |255.9 |0.0            |255.9 |Men's Fashion    |cod            |6702   |cancelled   |2021|1    |\n",
            "|407  |100437996|2021-01-18|717518 |2          |NULL |1894.6|0.0            |1894.6|Mobiles & Tablets|Easypay_MA     |55731  |cancelled   |2021|1    |\n",
            "|606  |100430519|2021-01-01|703609 |2          |NULL |49.9  |0.0            |49.9  |Appliances       |easypay_voucher|44445  |cancelled   |2021|1    |\n",
            "|607  |100432179|2021-01-04|706727 |2          |NULL |2552.1|0.0            |2552.1|Appliances       |cod            |44445  |received    |2021|1    |\n",
            "|608  |100432181|2021-01-04|706729 |2          |NULL |49.9  |0.0            |49.9  |Appliances       |cod            |44445  |received    |2021|1    |\n",
            "|609  |100432188|2021-01-04|706755 |2          |NULL |139.9 |0.0            |139.9 |Appliances       |cod            |44445  |received    |2021|1    |\n",
            "|610  |100433652|2021-01-08|709629 |2          |NULL |49.9  |0.0            |49.9  |Men's Fashion    |cod            |44445  |received    |2021|1    |\n",
            "|611  |100433652|2021-01-08|709631 |2          |NULL |49.9  |0.0            |49.9  |Men's Fashion    |cod            |44445  |received    |2021|1    |\n",
            "|612  |100435045|2021-01-10|711973 |2          |NULL |187.5 |0.0            |187.5 |Men's Fashion    |cod            |44445  |received    |2021|1    |\n",
            "|613  |100435045|2021-01-10|711975 |2          |NULL |150.0 |0.0            |150.0 |Men's Fashion    |cod            |44445  |received    |2021|1    |\n",
            "|614  |100435045|2021-01-10|711977 |2          |NULL |37.5  |0.0            |37.5  |Men's Fashion    |cod            |44445  |received    |2021|1    |\n",
            "|615  |100435045|2021-01-10|711979 |2          |NULL |37.5  |0.0            |37.5  |Men's Fashion    |cod            |44445  |received    |2021|1    |\n",
            "|616  |100435401|2021-01-11|712668 |2          |NULL |465.2 |0.0            |465.2 |Appliances       |cod            |44445  |received    |2021|1    |\n",
            "|737  |100431010|2021-01-02|704564 |2          |NULL |112.0 |0.0            |112.0 |Mobiles & Tablets|cod            |43257  |cancelled   |2021|1    |\n",
            "|771  |100437991|2021-01-18|717504 |2          |NULL |37.5  |0.0            |37.5  |Men's Fashion    |cod            |35698  |received    |2021|1    |\n",
            "|772  |100437991|2021-01-18|717506 |2          |NULL |69.9  |0.0            |69.9  |Men's Fashion    |cod            |35698  |received    |2021|1    |\n",
            "|773  |100437991|2021-01-18|717508 |2          |NULL |29.9  |0.0            |29.9  |Women's Fashion  |cod            |35698  |received    |2021|1    |\n",
            "|987  |100430996|2021-01-02|704540 |2          |NULL |900.0 |0.0            |900.0 |Others           |cod            |59587  |cancelled   |2021|1    |\n",
            "+-----+---------+----------+-------+-----------+-----+------+---------------+------+-----------------+---------------+-------+------------+----+-----+\n",
            "only showing top 20 rows\n",
            "\n"
          ]
        }
      ],
      "source": [
        "from pyspark.sql import SparkSession\n",
        "from pyspark.sql.types import *\n",
        "\n",
        "# Initialize Spark session\n",
        "spark = SparkSession.builder \\\n",
        "    .appName(\"Read Orders Data\") \\\n",
        "    .getOrCreate()\n",
        "\n",
        "# Define schema for orders.csv\n",
        "orders_schema = StructType([\n",
        "    StructField(\"index\", StringType(), True),\n",
        "    StructField(\"order_id\", StringType(), True),\n",
        "    StructField(\"order_date\", StringType(), True),\n",
        "    StructField(\"item_id\", StringType(), True),\n",
        "    StructField(\"qty_ordered\", IntegerType(), True),\n",
        "    StructField(\"price\", FloatType(), True),\n",
        "    StructField(\"value\", FloatType(), True),\n",
        "    StructField(\"discount_amount\", FloatType(), True),\n",
        "    StructField(\"total\", FloatType(), True),\n",
        "    StructField(\"category\", StringType(), True),\n",
        "    StructField(\"payment_method\", StringType(), True),\n",
        "    StructField(\"cust_id\", StringType(), True),\n",
        "    StructField(\"final_status\", StringType(), True)\n",
        "])\n",
        "# Read from landing zone into dataframe\n",
        "orders_df.show(10)\n",
        "\n",
        "# Convert 'order_date' to DateType\n",
        "#Reformatting the Existing Order_date column\n",
        "from pyspark.sql.functions import to_date, col, year, month\n",
        "\n",
        "# Assuming orders_df is already defined and loaded\n",
        "orders_df = orders_df.withColumn(\"order_date\", to_date(col(\"order_date\"), \"dd/MM/yy\"))\n",
        "\n",
        "# Add 'year' and 'month' columns\n",
        "orders_df = orders_df.withColumn('year', year(col(\"order_date\"))) \\\n",
        "                     .withColumn('month', month(col(\"order_date\")))\n",
        "\n",
        "# Show the DataFrame to verify\n",
        "orders_df.show(truncate=False)\n",
        "\n"
      ]
    },
    {
      "cell_type": "code",
      "execution_count": 123,
      "metadata": {
        "colab": {
          "base_uri": "https://localhost:8080/"
        },
        "id": "2sCIg_OYofTG",
        "outputId": "da976a06-6a26-4cfd-d66d-3c8d993922e1"
      },
      "outputs": [
        {
          "output_type": "execute_result",
          "data": {
            "text/plain": [
              "DataFrame[]"
            ]
          },
          "metadata": {},
          "execution_count": 123
        }
      ],
      "source": [
        "spark.sql(\"CREATE SCHEMA IF NOT EXISTS staging\")\n"
      ]
    },
    {
      "cell_type": "code",
      "execution_count": 124,
      "metadata": {
        "colab": {
          "base_uri": "https://localhost:8080/"
        },
        "id": "ckQxi5eXoiKn",
        "outputId": "9053b616-f5fe-4cf5-d44d-8e998982f00e"
      },
      "outputs": [
        {
          "output_type": "stream",
          "name": "stdout",
          "text": [
            "+---------+\n",
            "|namespace|\n",
            "+---------+\n",
            "|default  |\n",
            "|staging  |\n",
            "+---------+\n",
            "\n"
          ]
        }
      ],
      "source": [
        "schemas = spark.sql(\"SHOW SCHEMAS\")\n",
        "schemas.show(truncate=False)\n"
      ]
    },
    {
      "cell_type": "code",
      "execution_count": 125,
      "metadata": {
        "colab": {
          "base_uri": "https://localhost:8080/"
        },
        "id": "-VvvKlmdqMvr",
        "outputId": "53dfc9a4-587e-4e30-9285-24a7140d6479"
      },
      "outputs": [
        {
          "output_type": "stream",
          "name": "stdout",
          "text": [
            "DataFrame[namespace: string]\n",
            "DataFrame[namespace: string, tableName: string, isTemporary: boolean]\n"
          ]
        }
      ],
      "source": [
        "# Check if the database exists\n",
        "databases = spark.sql(\"SHOW DATABASES\")\n",
        "print(databases)\n",
        "\n",
        "# Check if the table exists\n",
        "tables = spark.sql(\"SHOW TABLES IN staging\")\n",
        "print(tables)"
      ]
    },
    {
      "cell_type": "code",
      "execution_count": 126,
      "metadata": {
        "id": "3ci1J6nyz1Kq"
      },
      "outputs": [],
      "source": [
        "def processCSVFile(path):\n",
        "    # Read the CSV file into a DataFrame using the schema\n",
        "    df = spark.read.csv(path, header=True, schema=orders_schema)\n",
        "\n",
        "    # Convert 'order_date' to a proper DateType\n",
        "    df = df.withColumn(\"order_date\", to_date(col(\"order_date\"), \"dd-MM-yyyy\"))\n",
        "\n",
        "    # Extract 'month' and 'year' from 'order_date'\n",
        "    df = df.withColumn('month', month(col(\"order_date\"))) \\\n",
        "           .withColumn('year', year(col(\"order_date\")))\n",
        "\n",
        "    # Define the output path for Parquet files\n",
        "    parquet_path = \"/content/sample_data/Sales_landing_zone/orders/\"\n",
        "\n",
        "    # Write the DataFrame to Parquet files, partitioned by 'year' and 'month'\n",
        "    df.write.format(\"parquet\") \\\n",
        "           .partitionBy(\"year\", \"month\") \\\n",
        "           .mode(\"append\") \\\n",
        "           .save(parquet_path)\n",
        "\n",
        "\n",
        "processCSVFile(\"/content/sample_data/Sales_landing_zone/orders/orders_01_21.csv\")"
      ]
    },
    {
      "cell_type": "code",
      "source": [
        "from pyspark.sql import SparkSession\n",
        "\n",
        "# Initialize Spark session with Hive support\n",
        "spark = SparkSession.builder \\\n",
        "    .appName(\"Spark with Hive\") \\\n",
        "    .config(\"spark.sql.catalogImplementation\", \"hive\") \\\n",
        "    .enableHiveSupport() \\\n",
        "    .getOrCreate()\n"
      ],
      "metadata": {
        "id": "i_xi9ZF9oEEG"
      },
      "execution_count": 127,
      "outputs": []
    },
    {
      "cell_type": "code",
      "source": [
        "# Assuming you have a DataFrame `sales_df` with the schema defined\n",
        "\n",
        "# Write DataFrame to a table\n",
        "orders_df.write.mode(\"overwrite\").saveAsTable(\"staging.orders\")\n"
      ],
      "metadata": {
        "id": "VVXmTUsGo5UF"
      },
      "execution_count": 128,
      "outputs": []
    },
    {
      "cell_type": "code",
      "execution_count": 129,
      "metadata": {
        "colab": {
          "base_uri": "https://localhost:8080/"
        },
        "id": "Q5OucGHxolup",
        "outputId": "581ccb07-13f7-4db1-b372-b058169083e3"
      },
      "outputs": [
        {
          "output_type": "stream",
          "name": "stdout",
          "text": [
            "+---------------+---------+-------+\n",
            "|col_name       |data_type|comment|\n",
            "+---------------+---------+-------+\n",
            "|index          |string   |NULL   |\n",
            "|order_id       |string   |NULL   |\n",
            "|order_date     |date     |NULL   |\n",
            "|item_id        |string   |NULL   |\n",
            "|qty_ordered    |int      |NULL   |\n",
            "|price          |int      |NULL   |\n",
            "|value          |float    |NULL   |\n",
            "|discount_amount|float    |NULL   |\n",
            "|total          |float    |NULL   |\n",
            "|category       |string   |NULL   |\n",
            "|payment_method |string   |NULL   |\n",
            "|cust_id        |string   |NULL   |\n",
            "|final_status   |string   |NULL   |\n",
            "|year           |int      |NULL   |\n",
            "|month          |int      |NULL   |\n",
            "+---------------+---------+-------+\n",
            "\n"
          ]
        }
      ],
      "source": [
        "spark.sql(\"DESCRIBE staging.orders\").show(truncate=False)"
      ]
    },
    {
      "cell_type": "code",
      "execution_count": 130,
      "metadata": {
        "id": "Gt-W1AOB0zjk"
      },
      "outputs": [],
      "source": [
        "processCSVFile(\"/content/sample_data/Sales_landing_zone/orders/orders_04_21.csv\")"
      ]
    },
    {
      "cell_type": "code",
      "execution_count": 131,
      "metadata": {
        "id": "45Fxhy2Spw81"
      },
      "outputs": [],
      "source": [
        "# Read the CSV file\n",
        "orders_df = spark.read.format(\"csv\") \\\n",
        "    .option(\"header\", \"true\") \\\n",
        "    .option(\"inferSchema\", \"true\") \\\n",
        "    .load(\"/content/sample_data/Sales_landing_zone/orders/orders_01_21.csv\")\n",
        "\n",
        "# Save as Parquet\n",
        "orders_df.write.format(\"parquet\") \\\n",
        "    .mode(\"overwrite\") \\\n",
        "    .save(\"/content/sample_data/Sales_landing_zone/orders_parquet/\")\n"
      ]
    },
    {
      "cell_type": "code",
      "execution_count": 132,
      "metadata": {
        "colab": {
          "base_uri": "https://localhost:8080/"
        },
        "id": "U1-D6uykwcUI",
        "outputId": "79d5c0f4-260e-4a56-b170-53bd1b0aeab3"
      },
      "outputs": [
        {
          "output_type": "stream",
          "name": "stdout",
          "text": [
            "root\n",
            " |-- index: integer (nullable = true)\n",
            " |-- order_id: integer (nullable = true)\n",
            " |-- order_date: string (nullable = true)\n",
            " |-- item_id: integer (nullable = true)\n",
            " |-- qty_ordered: integer (nullable = true)\n",
            " |-- price: double (nullable = true)\n",
            " |-- value: double (nullable = true)\n",
            " |-- discount_amount: double (nullable = true)\n",
            " |-- total: double (nullable = true)\n",
            " |-- category: string (nullable = true)\n",
            " |-- payment_method: string (nullable = true)\n",
            " |-- cust_id: integer (nullable = true)\n",
            " |-- final_status: string (nullable = true)\n",
            "\n"
          ]
        }
      ],
      "source": [
        "orders_df.printSchema()"
      ]
    },
    {
      "cell_type": "code",
      "execution_count": 133,
      "metadata": {
        "colab": {
          "base_uri": "https://localhost:8080/"
        },
        "id": "VR267olIymdX",
        "outputId": "7ec9e6f7-fafa-45cf-9fbb-32dd4db7deeb"
      },
      "outputs": [
        {
          "output_type": "stream",
          "name": "stdout",
          "text": [
            "+-----+---------+----------+-------+-----------+------+------+---------------+------+-----------------+---------------+-------+------------+\n",
            "|index| order_id|order_date|item_id|qty_ordered| price| value|discount_amount| total|         category| payment_method|cust_id|final_status|\n",
            "+-----+---------+----------+-------+-----------+------+------+---------------+------+-----------------+---------------+-------+------------+\n",
            "|  296|100438643|  21/01/21| 718698|          2|6979.2|6979.2|            0.0|6979.2|Mobiles & Tablets|            cod|   6702|   cancelled|\n",
            "|  297|100439395|  24/01/21| 719994|          2|6979.2|6979.2|            0.0|6979.2|Mobiles & Tablets|            cod|   6702|    received|\n",
            "|  298|100439912|  25/01/21| 721015|          2| 255.9| 255.9|            0.0| 255.9|    Men's Fashion|            cod|   6702|   cancelled|\n",
            "|  407|100437996|  18/01/21| 717518|          2|1894.6|1894.6|            0.0|1894.6|Mobiles & Tablets|     Easypay_MA|  55731|   cancelled|\n",
            "|  606|100430519|  01/01/21| 703609|          2|  49.9|  49.9|            0.0|  49.9|       Appliances|easypay_voucher|  44445|   cancelled|\n",
            "|  607|100432179|  04/01/21| 706727|          2|2552.1|2552.1|            0.0|2552.1|       Appliances|            cod|  44445|    received|\n",
            "|  608|100432181|  04/01/21| 706729|          2|  49.9|  49.9|            0.0|  49.9|       Appliances|            cod|  44445|    received|\n",
            "|  609|100432188|  04/01/21| 706755|          2| 139.9| 139.9|            0.0| 139.9|       Appliances|            cod|  44445|    received|\n",
            "|  610|100433652|  08/01/21| 709629|          2|  49.9|  49.9|            0.0|  49.9|    Men's Fashion|            cod|  44445|    received|\n",
            "|  611|100433652|  08/01/21| 709631|          2|  49.9|  49.9|            0.0|  49.9|    Men's Fashion|            cod|  44445|    received|\n",
            "+-----+---------+----------+-------+-----------+------+------+---------------+------+-----------------+---------------+-------+------------+\n",
            "only showing top 10 rows\n",
            "\n"
          ]
        }
      ],
      "source": [
        "orders_df.show(10)"
      ]
    },
    {
      "cell_type": "code",
      "execution_count": 134,
      "metadata": {
        "colab": {
          "base_uri": "https://localhost:8080/"
        },
        "id": "veNAfWLMwNsO",
        "outputId": "908f4fb9-4ada-4900-ad7f-1704a555a137"
      },
      "outputs": [
        {
          "output_type": "stream",
          "name": "stdout",
          "text": [
            "+---------------+---------+-------+\n",
            "|col_name       |data_type|comment|\n",
            "+---------------+---------+-------+\n",
            "|index          |string   |NULL   |\n",
            "|order_id       |string   |NULL   |\n",
            "|order_date     |date     |NULL   |\n",
            "|item_id        |string   |NULL   |\n",
            "|qty_ordered    |int      |NULL   |\n",
            "|price          |int      |NULL   |\n",
            "|value          |float    |NULL   |\n",
            "|discount_amount|float    |NULL   |\n",
            "|total          |float    |NULL   |\n",
            "|category       |string   |NULL   |\n",
            "|payment_method |string   |NULL   |\n",
            "|cust_id        |string   |NULL   |\n",
            "|final_status   |string   |NULL   |\n",
            "|year           |int      |NULL   |\n",
            "|month          |int      |NULL   |\n",
            "+---------------+---------+-------+\n",
            "\n"
          ]
        }
      ],
      "source": [
        "spark.sql(\"DESCRIBE staging.orders\").show(truncate=False)"
      ]
    },
    {
      "cell_type": "code",
      "execution_count": 135,
      "metadata": {
        "id": "XhkFJueapV_b"
      },
      "outputs": [],
      "source": [
        "import os\n",
        "from pyspark.sql import SparkSession\n",
        "from pyspark.sql.types import StructType, StructField, IntegerType, StringType, DoubleType\n",
        "from pyspark.sql.functions import to_date, col, month, year\n",
        "from datetime import datetime\n",
        "\n",
        "# Create or get Spark session\n",
        "spark = SparkSession.builder.appName(\"MonthlyDataIngestion\").getOrCreate()\n",
        "\n",
        "def processMonthlyData(input_dir):\n",
        "    # List all files in the directory\n",
        "    files = [os.path.join(input_dir, f) for f in os.listdir(input_dir) if f.endswith(\".csv\")]\n",
        "\n",
        "    for file in files:\n",
        "        # Read the CSV file into a DataFrame using the schema\n",
        "        df = spark.read.csv(file, header=True, schema=orders_schema)\n",
        "\n",
        "        # Convert 'order_date' to a proper DateType\n",
        "        df = df.withColumn(\"order_date\", to_date(col(\"order_date\"), \"dd-MM-yyyy\"))\n",
        "\n",
        "        # Extract 'month' and 'year' from 'order_date'\n",
        "        df = df.withColumn('month', month(col(\"order_date\"))) \\\n",
        "               .withColumn('year', year(col(\"order_date\")))\n",
        "\n",
        "        # Define the output path for Parquet files\n",
        "        parquet_path = \"/content/sample_data/Sales_landing_zone/orders/\"\n",
        "\n",
        "        # Write the DataFrame to Parquet files, partitioned by 'year' and 'month'\n",
        "        df.write.format(\"parquet\") \\\n",
        "               .partitionBy(\"year\",\"month\") \\\n",
        "               .mode(\"append\") \\\n",
        "               .save(parquet_path)\n",
        "\n",
        "# Example\n",
        "input_directory = \"/content/sample_data/Sales_landing_zone/orders/\"\n",
        "processMonthlyData(input_directory)\n"
      ]
    },
    {
      "cell_type": "code",
      "execution_count": 136,
      "metadata": {
        "id": "yKLhccF17gGy"
      },
      "outputs": [],
      "source": [
        "# Read CSV data with basePath option\n",
        "stores_df = (spark.read\n",
        "             .option(\"header\", True)\n",
        "             .option(\"inferSchema\", True)\n",
        "             .csv(\"/content/sample_data/Sales_landing_zone/orders/orders_01_21.csv\"))\n"
      ]
    },
    {
      "cell_type": "code",
      "execution_count": 137,
      "metadata": {
        "id": "x9rN9ZXp9JPd",
        "colab": {
          "base_uri": "https://localhost:8080/"
        },
        "outputId": "18e63dd2-8a22-40e2-d879-7bd68620962e"
      },
      "outputs": [
        {
          "output_type": "stream",
          "name": "stdout",
          "text": [
            "+-----+---------+----------+-------+-----------+-----+-----+---------------+---------+-------------+--------------+-------+------------+----+-----+\n",
            "|index| order_id|order_date|item_id|qty_ordered|price|value|discount_amount|    total|     category|payment_method|cust_id|final_status|year|month|\n",
            "+-----+---------+----------+-------+-----------+-----+-----+---------------+---------+-------------+--------------+-------+------------+----+-----+\n",
            "|   12|100403034|2020-12-24| 656937|          2|254.8|254.8|       39.80628|214.99372|   Appliances|       Easypay|  42485|   cancelled|2020|   12|\n",
            "|   13|100403034|2020-12-24| 656938|          2|315.5|315.5|       49.28917|266.21083|   Appliances|       Easypay|  42485|   cancelled|2020|   12|\n",
            "|   14|100403034|2020-12-24| 656939|          2| 69.8| 69.8|       10.90455| 58.89545|Home & Living|       Easypay|  42485|   cancelled|2020|   12|\n",
            "|   15|100403077|2020-12-24| 657023|          2|254.8|254.8|       39.80628|214.99372|   Appliances|       Easypay|  42485|   cancelled|2020|   12|\n",
            "|   16|100403077|2020-12-24| 657024|          2|315.5|315.5|       49.28917|266.21083|   Appliances|       Easypay|  42485|   cancelled|2020|   12|\n",
            "|   17|100403077|2020-12-24| 657025|          2| 69.8| 69.8|       10.90455| 58.89545|Home & Living|       Easypay|  42485|   cancelled|2020|   12|\n",
            "|   18|100403411|2020-12-24| 657547|          2|254.8|254.8|       39.80628|214.99372|   Appliances|       Easypay|  42485|   cancelled|2020|   12|\n",
            "|   19|100403411|2020-12-24| 657548|          2|315.5|315.5|       49.28917|266.21083|   Appliances|       Easypay|  42485|   cancelled|2020|   12|\n",
            "|   20|100403411|2020-12-24| 657549|          2| 69.8| 69.8|       10.90455| 58.89545|Home & Living|       Easypay|  42485|   cancelled|2020|   12|\n",
            "|   21|100403502|2020-12-24| 657702|          2|254.8|254.8|       39.80628|214.99372|   Appliances|       Easypay|  42485|   cancelled|2020|   12|\n",
            "+-----+---------+----------+-------+-----------+-----+-----+---------------+---------+-------------+--------------+-------+------------+----+-----+\n",
            "only showing top 10 rows\n",
            "\n"
          ]
        }
      ],
      "source": [
        "# Define the schema with partition columns\n",
        "stores_schema = StructType([\n",
        "    StructField(\"index\", IntegerType(), True),\n",
        "    StructField(\"order_id\", IntegerType(), True),\n",
        "    StructField(\"order_date\", StringType(), True),\n",
        "    StructField(\"item_id\", IntegerType(), True),\n",
        "    StructField(\"qty_ordered\", IntegerType(), True),\n",
        "    StructField(\"price\", DoubleType(), True),\n",
        "    StructField(\"value\", DoubleType(), True),\n",
        "    StructField(\"discount_amount\", DoubleType(), True),\n",
        "    StructField(\"total\", DoubleType(), True),\n",
        "    StructField(\"category\", StringType(), True),\n",
        "    StructField(\"payment_method\", StringType(), True),\n",
        "    StructField(\"cust_id\", IntegerType(), True),\n",
        "    StructField(\"final_status\", StringType(), True),\n",
        "    StructField(\"year\", IntegerType(), True),\n",
        "    StructField(\"month\", IntegerType(), True)\n",
        "])\n",
        "\n",
        "# Read and write data with partitioning\n",
        "stores_df = (spark.read\n",
        "             .option(\"header\", True)\n",
        "             .option(\"inferSchema\", True)\n",
        "             .csv(\"/content/sample_data/Sales_landing_zone/orders/*.csv\"))\n",
        "\n",
        "\n",
        "# Parse the order_date column and extract year and month\n",
        "stores_df = stores_df.withColumn(\"order_date\", to_date(col(\"order_date\"), \"dd/MM/yy\")) \\\n",
        "                     .withColumn(\"year\", year(col(\"order_date\"))) \\\n",
        "                     .withColumn(\"month\", month(col(\"order_date\")))\n",
        "\n",
        "# Write to a new table with partition columns\n",
        "stores_df.write.format(\"parquet\") \\\n",
        "               .mode(\"overwrite\") \\\n",
        "               .partitionBy(\"year\", \"month\") \\\n",
        "               .saveAsTable(\"staging.stores\")\n",
        "\n",
        "stores_df.show(10)"
      ]
    },
    {
      "cell_type": "code",
      "execution_count": 138,
      "metadata": {
        "id": "54WdmZpn-svD",
        "colab": {
          "base_uri": "https://localhost:8080/"
        },
        "outputId": "f25bf81d-3bdb-458f-ce35-a42a2305d63b"
      },
      "outputs": [
        {
          "output_type": "stream",
          "name": "stdout",
          "text": [
            "+-----+---------+----------+-------+-----------+-----+-----+---------------+---------+-------------+--------------+-------+------------+----+-----+\n",
            "|index| order_id|order_date|item_id|qty_ordered|price|value|discount_amount|    total|     category|payment_method|cust_id|final_status|year|month|\n",
            "+-----+---------+----------+-------+-----------+-----+-----+---------------+---------+-------------+--------------+-------+------------+----+-----+\n",
            "|   12|100403034|2020-12-24| 656937|          2|254.8|254.8|       39.80628|214.99372|   Appliances|       Easypay|  42485|   cancelled|2020|   12|\n",
            "|   13|100403034|2020-12-24| 656938|          2|315.5|315.5|       49.28917|266.21083|   Appliances|       Easypay|  42485|   cancelled|2020|   12|\n",
            "|   14|100403034|2020-12-24| 656939|          2| 69.8| 69.8|       10.90455| 58.89545|Home & Living|       Easypay|  42485|   cancelled|2020|   12|\n",
            "|   15|100403077|2020-12-24| 657023|          2|254.8|254.8|       39.80628|214.99372|   Appliances|       Easypay|  42485|   cancelled|2020|   12|\n",
            "|   16|100403077|2020-12-24| 657024|          2|315.5|315.5|       49.28917|266.21083|   Appliances|       Easypay|  42485|   cancelled|2020|   12|\n",
            "|   17|100403077|2020-12-24| 657025|          2| 69.8| 69.8|       10.90455| 58.89545|Home & Living|       Easypay|  42485|   cancelled|2020|   12|\n",
            "|   18|100403411|2020-12-24| 657547|          2|254.8|254.8|       39.80628|214.99372|   Appliances|       Easypay|  42485|   cancelled|2020|   12|\n",
            "|   19|100403411|2020-12-24| 657548|          2|315.5|315.5|       49.28917|266.21083|   Appliances|       Easypay|  42485|   cancelled|2020|   12|\n",
            "|   20|100403411|2020-12-24| 657549|          2| 69.8| 69.8|       10.90455| 58.89545|Home & Living|       Easypay|  42485|   cancelled|2020|   12|\n",
            "|   21|100403502|2020-12-24| 657702|          2|254.8|254.8|       39.80628|214.99372|   Appliances|       Easypay|  42485|   cancelled|2020|   12|\n",
            "+-----+---------+----------+-------+-----------+-----+-----+---------------+---------+-------------+--------------+-------+------------+----+-----+\n",
            "\n",
            "+---------+---------+-----------+\n",
            "|namespace|tableName|isTemporary|\n",
            "+---------+---------+-----------+\n",
            "|  staging|   orders|      false|\n",
            "|  staging|   stores|      false|\n",
            "+---------+---------+-----------+\n",
            "\n"
          ]
        }
      ],
      "source": [
        "# Execute SQL query\n",
        "result_df = spark.sql(\"SELECT * FROM staging.stores LIMIT 10\")\n",
        "\n",
        "# Display the result\n",
        "result_df.show()\n",
        "\n",
        "# List all tables in the staging database\n",
        "spark.sql(\"SHOW TABLES IN staging\").show()\n",
        "\n"
      ]
    },
    {
      "cell_type": "code",
      "source": [
        "# Check existing tables and their schemas\n",
        "spark.sql(\"SHOW TABLES IN staging\").show()\n",
        "spark.sql(\"DESCRIBE TABLE staging.orders\").show(truncate=False)\n"
      ],
      "metadata": {
        "colab": {
          "base_uri": "https://localhost:8080/"
        },
        "id": "hfS_5zzXunKU",
        "outputId": "cf0ff3b3-4a0f-4749-f068-f742cf5abfc2"
      },
      "execution_count": 139,
      "outputs": [
        {
          "output_type": "stream",
          "name": "stdout",
          "text": [
            "+---------+---------+-----------+\n",
            "|namespace|tableName|isTemporary|\n",
            "+---------+---------+-----------+\n",
            "|  staging|   orders|      false|\n",
            "|  staging|   stores|      false|\n",
            "+---------+---------+-----------+\n",
            "\n",
            "+---------------+---------+-------+\n",
            "|col_name       |data_type|comment|\n",
            "+---------------+---------+-------+\n",
            "|index          |string   |NULL   |\n",
            "|order_id       |string   |NULL   |\n",
            "|order_date     |date     |NULL   |\n",
            "|item_id        |string   |NULL   |\n",
            "|qty_ordered    |int      |NULL   |\n",
            "|price          |int      |NULL   |\n",
            "|value          |float    |NULL   |\n",
            "|discount_amount|float    |NULL   |\n",
            "|total          |float    |NULL   |\n",
            "|category       |string   |NULL   |\n",
            "|payment_method |string   |NULL   |\n",
            "|cust_id        |string   |NULL   |\n",
            "|final_status   |string   |NULL   |\n",
            "|year           |int      |NULL   |\n",
            "|month          |int      |NULL   |\n",
            "+---------------+---------+-------+\n",
            "\n"
          ]
        }
      ]
    }
  ],
  "metadata": {
    "colab": {
      "provenance": [],
      "authorship_tag": "ABX9TyPMG2O8j3koNkcsOVPeAzdP",
      "include_colab_link": true
    },
    "kernelspec": {
      "display_name": "Python 3",
      "name": "python3"
    },
    "language_info": {
      "name": "python"
    }
  },
  "nbformat": 4,
  "nbformat_minor": 0
}